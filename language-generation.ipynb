{
 "cells": [
  {
   "cell_type": "code",
   "execution_count": 1,
   "id": "e831f6ee",
   "metadata": {
    "execution": {
     "iopub.execute_input": "2022-05-03T00:48:44.302816Z",
     "iopub.status.busy": "2022-05-03T00:48:44.302440Z",
     "iopub.status.idle": "2022-05-03T00:48:49.492376Z",
     "shell.execute_reply": "2022-05-03T00:48:49.491567Z"
    },
    "papermill": {
     "duration": 5.213373,
     "end_time": "2022-05-03T00:48:49.494548",
     "exception": false,
     "start_time": "2022-05-03T00:48:44.281175",
     "status": "completed"
    },
    "tags": []
   },
   "outputs": [],
   "source": [
    "import tensorflow as tf\n",
    "from tensorflow.keras.preprocessing.text import Tokenizer\n",
    "from tensorflow.keras.layers import Embedding, LSTM, Dense\n",
    "from tensorflow.keras.models import Sequential\n",
    "from tensorflow.keras.utils import to_categorical\n",
    "from tensorflow.keras.optimizers import Adam\n",
    "from tensorflow import keras\n",
    "import pickle\n",
    "import numpy as np\n",
    "import os\n",
    "import random"
   ]
  },
  {
   "cell_type": "code",
   "execution_count": 2,
   "id": "ceb15db1",
   "metadata": {
    "execution": {
     "iopub.execute_input": "2022-05-03T00:48:49.534439Z",
     "iopub.status.busy": "2022-05-03T00:48:49.534053Z",
     "iopub.status.idle": "2022-05-03T00:48:49.569037Z",
     "shell.execute_reply": "2022-05-03T00:48:49.568350Z"
    },
    "papermill": {
     "duration": 0.057347,
     "end_time": "2022-05-03T00:48:49.571028",
     "exception": false,
     "start_time": "2022-05-03T00:48:49.513681",
     "status": "completed"
    },
    "tags": []
   },
   "outputs": [],
   "source": [
    "input_nextWord = pickle.load(open('../input/next-word-predictor/DS_5_train_input_nextWord','rb'))\n",
    "output_prefixList = pickle.load(open('../input/next-word-predictor/DS_5_train_input_prefixList','rb'))\n",
    "input_train = pickle.load(open('../input/next-word-predictor/DS_5_train_input','rb'))"
   ]
  },
  {
   "cell_type": "markdown",
   "id": "c2dbe2e3",
   "metadata": {
    "papermill": {
     "duration": 0.018286,
     "end_time": "2022-05-03T00:48:49.608063",
     "exception": false,
     "start_time": "2022-05-03T00:48:49.589777",
     "status": "completed"
    },
    "tags": []
   },
   "source": [
    "# Tokenizer"
   ]
  },
  {
   "cell_type": "code",
   "execution_count": 3,
   "id": "acb10ec3",
   "metadata": {
    "execution": {
     "iopub.execute_input": "2022-05-03T00:48:49.646237Z",
     "iopub.status.busy": "2022-05-03T00:48:49.645709Z",
     "iopub.status.idle": "2022-05-03T00:48:49.748896Z",
     "shell.execute_reply": "2022-05-03T00:48:49.748195Z"
    },
    "papermill": {
     "duration": 0.124656,
     "end_time": "2022-05-03T00:48:49.751029",
     "exception": false,
     "start_time": "2022-05-03T00:48:49.626373",
     "status": "completed"
    },
    "tags": []
   },
   "outputs": [],
   "source": [
    "tokenizer = Tokenizer()\n",
    "tokenizer.fit_on_texts(input_train)\n",
    "\n",
    "# saving the tokenizer for predict function\n",
    "pickle.dump(tokenizer, open('token.pkl', 'wb'))"
   ]
  },
  {
   "cell_type": "code",
   "execution_count": 4,
   "id": "d9fda73c",
   "metadata": {
    "execution": {
     "iopub.execute_input": "2022-05-03T00:48:49.789379Z",
     "iopub.status.busy": "2022-05-03T00:48:49.788970Z",
     "iopub.status.idle": "2022-05-03T00:48:49.795863Z",
     "shell.execute_reply": "2022-05-03T00:48:49.795229Z"
    },
    "papermill": {
     "duration": 0.028682,
     "end_time": "2022-05-03T00:48:49.798197",
     "exception": false,
     "start_time": "2022-05-03T00:48:49.769515",
     "status": "completed"
    },
    "tags": []
   },
   "outputs": [
    {
     "data": {
      "text/plain": [
       "[[7]]"
      ]
     },
     "execution_count": 4,
     "metadata": {},
     "output_type": "execute_result"
    }
   ],
   "source": [
    "tokenizer.texts_to_sequences(['f'])"
   ]
  },
  {
   "cell_type": "code",
   "execution_count": 5,
   "id": "c307cb3d",
   "metadata": {
    "execution": {
     "iopub.execute_input": "2022-05-03T00:48:49.837160Z",
     "iopub.status.busy": "2022-05-03T00:48:49.836933Z",
     "iopub.status.idle": "2022-05-03T00:48:49.840904Z",
     "shell.execute_reply": "2022-05-03T00:48:49.840241Z"
    },
    "papermill": {
     "duration": 0.025869,
     "end_time": "2022-05-03T00:48:49.843016",
     "exception": false,
     "start_time": "2022-05-03T00:48:49.817147",
     "status": "completed"
    },
    "tags": []
   },
   "outputs": [
    {
     "name": "stdout",
     "output_type": "stream",
     "text": [
      "12\n"
     ]
    }
   ],
   "source": [
    "vocab_size = len(tokenizer.word_index) + 1\n",
    "print(vocab_size)"
   ]
  },
  {
   "cell_type": "markdown",
   "id": "56c2fae2",
   "metadata": {
    "papermill": {
     "duration": 0.018812,
     "end_time": "2022-05-03T00:48:49.883847",
     "exception": false,
     "start_time": "2022-05-03T00:48:49.865035",
     "status": "completed"
    },
    "tags": []
   },
   "source": [
    "# Augmenting Dataset"
   ]
  },
  {
   "cell_type": "code",
   "execution_count": 6,
   "id": "cef66bdf",
   "metadata": {
    "execution": {
     "iopub.execute_input": "2022-05-03T00:48:49.923822Z",
     "iopub.status.busy": "2022-05-03T00:48:49.923176Z",
     "iopub.status.idle": "2022-05-03T00:48:50.165707Z",
     "shell.execute_reply": "2022-05-03T00:48:50.164951Z"
    },
    "papermill": {
     "duration": 0.265039,
     "end_time": "2022-05-03T00:48:50.167707",
     "exception": false,
     "start_time": "2022-05-03T00:48:49.902668",
     "status": "completed"
    },
    "tags": []
   },
   "outputs": [],
   "source": [
    "def augment_dataset(output_prefixList, input_nextWord):\n",
    "    next_words_list = []\n",
    "    prev_words_list = []\n",
    "    for string,word in zip(output_prefixList, input_nextWord):\n",
    "        for j in range(len(string)-1):\n",
    "            prev_words_list.append(string[:j+1])\n",
    "            next_words_list.append(string[j+1])\n",
    "        prev_words_list.append(string)\n",
    "        next_words_list.append(word)\n",
    "    return next_words_list,prev_words_list\n",
    "    \n",
    "next_words,prev_words = augment_dataset(output_prefixList, input_nextWord)"
   ]
  },
  {
   "cell_type": "code",
   "execution_count": 7,
   "id": "ed77c4d8",
   "metadata": {
    "execution": {
     "iopub.execute_input": "2022-05-03T00:48:50.207507Z",
     "iopub.status.busy": "2022-05-03T00:48:50.207265Z",
     "iopub.status.idle": "2022-05-03T00:48:50.216675Z",
     "shell.execute_reply": "2022-05-03T00:48:50.216002Z"
    },
    "papermill": {
     "duration": 0.031561,
     "end_time": "2022-05-03T00:48:50.218844",
     "exception": false,
     "start_time": "2022-05-03T00:48:50.187283",
     "status": "completed"
    },
    "tags": []
   },
   "outputs": [
    {
     "name": "stdout",
     "output_type": "stream",
     "text": [
      "48\n"
     ]
    }
   ],
   "source": [
    "print(len(max(prev_words, key = len)))"
   ]
  },
  {
   "cell_type": "markdown",
   "id": "3d4924d8",
   "metadata": {
    "papermill": {
     "duration": 0.019103,
     "end_time": "2022-05-03T00:48:50.258291",
     "exception": false,
     "start_time": "2022-05-03T00:48:50.239188",
     "status": "completed"
    },
    "tags": []
   },
   "source": [
    "# Tokenize inputs and outputs"
   ]
  },
  {
   "cell_type": "code",
   "execution_count": 8,
   "id": "42e51fd7",
   "metadata": {
    "execution": {
     "iopub.execute_input": "2022-05-03T00:48:50.298470Z",
     "iopub.status.busy": "2022-05-03T00:48:50.297723Z",
     "iopub.status.idle": "2022-05-03T00:48:52.306812Z",
     "shell.execute_reply": "2022-05-03T00:48:52.306006Z"
    },
    "papermill": {
     "duration": 2.031358,
     "end_time": "2022-05-03T00:48:52.308821",
     "exception": false,
     "start_time": "2022-05-03T00:48:50.277463",
     "status": "completed"
    },
    "tags": []
   },
   "outputs": [],
   "source": [
    "sequence_prev_words = tokenizer.texts_to_sequences(prev_words)\n",
    "sequence_next_words = tokenizer.texts_to_sequences(next_words)"
   ]
  },
  {
   "cell_type": "code",
   "execution_count": 9,
   "id": "0808de80",
   "metadata": {
    "execution": {
     "iopub.execute_input": "2022-05-03T00:48:52.349524Z",
     "iopub.status.busy": "2022-05-03T00:48:52.349278Z",
     "iopub.status.idle": "2022-05-03T00:48:52.353364Z",
     "shell.execute_reply": "2022-05-03T00:48:52.352666Z"
    },
    "papermill": {
     "duration": 0.02755,
     "end_time": "2022-05-03T00:48:52.356054",
     "exception": false,
     "start_time": "2022-05-03T00:48:52.328504",
     "status": "completed"
    },
    "tags": []
   },
   "outputs": [
    {
     "name": "stdout",
     "output_type": "stream",
     "text": [
      "[1, 5]\n"
     ]
    }
   ],
   "source": [
    "print(sequence_prev_words[1])"
   ]
  },
  {
   "cell_type": "markdown",
   "id": "6f53fd7b",
   "metadata": {
    "papermill": {
     "duration": 0.019333,
     "end_time": "2022-05-03T00:48:52.395954",
     "exception": false,
     "start_time": "2022-05-03T00:48:52.376621",
     "status": "completed"
    },
    "tags": []
   },
   "source": [
    "# Padding Inputs "
   ]
  },
  {
   "cell_type": "code",
   "execution_count": 10,
   "id": "30e12598",
   "metadata": {
    "execution": {
     "iopub.execute_input": "2022-05-03T00:48:52.436167Z",
     "iopub.status.busy": "2022-05-03T00:48:52.435981Z",
     "iopub.status.idle": "2022-05-03T00:48:52.855084Z",
     "shell.execute_reply": "2022-05-03T00:48:52.853516Z"
    },
    "papermill": {
     "duration": 0.442315,
     "end_time": "2022-05-03T00:48:52.857570",
     "exception": false,
     "start_time": "2022-05-03T00:48:52.415255",
     "status": "completed"
    },
    "tags": []
   },
   "outputs": [
    {
     "name": "stdout",
     "output_type": "stream",
     "text": [
      "[0, 0, 0, 0, 0, 0, 0, 0, 0, 0, 0, 0, 0, 0, 0, 0, 0, 0, 0, 0, 0, 0, 0, 0, 0, 0, 0, 0, 0, 0, 0, 0, 0, 0, 0, 0, 0, 0, 0, 0, 0, 0, 0, 0, 0, 0, 0, 1, 8, 3]\n"
     ]
    }
   ],
   "source": [
    "def pad(some_list, target_len):\n",
    "    padded_prev_words = []\n",
    "    for lst in some_list:\n",
    "        padded_prev_words.append([0]*(target_len - len(lst)) + lst[:target_len])\n",
    "    return padded_prev_words\n",
    "\n",
    "input_sequence_length = 50\n",
    "new_sequence_prev_words = pad(sequence_prev_words, input_sequence_length)\n",
    "\n",
    "print(new_sequence_prev_words[42])"
   ]
  },
  {
   "cell_type": "code",
   "execution_count": 11,
   "id": "12f3a060",
   "metadata": {
    "execution": {
     "iopub.execute_input": "2022-05-03T00:48:52.899580Z",
     "iopub.status.busy": "2022-05-03T00:48:52.899010Z",
     "iopub.status.idle": "2022-05-03T00:48:52.905087Z",
     "shell.execute_reply": "2022-05-03T00:48:52.904208Z"
    },
    "papermill": {
     "duration": 0.028763,
     "end_time": "2022-05-03T00:48:52.907103",
     "exception": false,
     "start_time": "2022-05-03T00:48:52.878340",
     "status": "completed"
    },
    "tags": []
   },
   "outputs": [
    {
     "name": "stdout",
     "output_type": "stream",
     "text": [
      "134731\n",
      "134731\n"
     ]
    }
   ],
   "source": [
    "print(len(new_sequence_prev_words))\n",
    "print(len(sequence_next_words))"
   ]
  },
  {
   "cell_type": "markdown",
   "id": "99f47853",
   "metadata": {
    "papermill": {
     "duration": 0.020038,
     "end_time": "2022-05-03T00:48:52.948034",
     "exception": false,
     "start_time": "2022-05-03T00:48:52.927996",
     "status": "completed"
    },
    "tags": []
   },
   "source": [
    "# Splitting into testing and training data"
   ]
  },
  {
   "cell_type": "code",
   "execution_count": 12,
   "id": "3f0ae364",
   "metadata": {
    "execution": {
     "iopub.execute_input": "2022-05-03T00:48:52.990236Z",
     "iopub.status.busy": "2022-05-03T00:48:52.989614Z",
     "iopub.status.idle": "2022-05-03T00:48:54.265186Z",
     "shell.execute_reply": "2022-05-03T00:48:54.264370Z"
    },
    "papermill": {
     "duration": 1.299072,
     "end_time": "2022-05-03T00:48:54.267253",
     "exception": false,
     "start_time": "2022-05-03T00:48:52.968181",
     "status": "completed"
    },
    "tags": []
   },
   "outputs": [],
   "source": [
    "sequence_next_words = np.array(sequence_next_words)\n",
    "new_sequence_prev_words = np.array(new_sequence_prev_words)\n",
    "\n",
    "random.shuffle(list(zip(new_sequence_prev_words, sequence_next_words)))\n",
    "\n",
    "train_prev_words = new_sequence_prev_words[:134700]\n",
    "test_prev_words = new_sequence_prev_words[134700:]\n",
    "train_next_word = sequence_next_words[:134700]\n",
    "test_next_word = sequence_next_words[134700:]"
   ]
  },
  {
   "cell_type": "markdown",
   "id": "0be8be01",
   "metadata": {
    "papermill": {
     "duration": 0.019975,
     "end_time": "2022-05-03T00:48:54.307718",
     "exception": false,
     "start_time": "2022-05-03T00:48:54.287743",
     "status": "completed"
    },
    "tags": []
   },
   "source": [
    "# The Model"
   ]
  },
  {
   "cell_type": "code",
   "execution_count": 13,
   "id": "c74e2c3f",
   "metadata": {
    "execution": {
     "iopub.execute_input": "2022-05-03T00:48:54.349635Z",
     "iopub.status.busy": "2022-05-03T00:48:54.348952Z",
     "iopub.status.idle": "2022-05-03T00:48:57.487196Z",
     "shell.execute_reply": "2022-05-03T00:48:57.486458Z"
    },
    "papermill": {
     "duration": 3.161441,
     "end_time": "2022-05-03T00:48:57.489202",
     "exception": false,
     "start_time": "2022-05-03T00:48:54.327761",
     "status": "completed"
    },
    "tags": []
   },
   "outputs": [
    {
     "name": "stderr",
     "output_type": "stream",
     "text": [
      "2022-05-03 00:48:54.439413: I tensorflow/stream_executor/cuda/cuda_gpu_executor.cc:937] successful NUMA node read from SysFS had negative value (-1), but there must be at least one NUMA node, so returning NUMA node zero\n",
      "2022-05-03 00:48:54.539805: I tensorflow/stream_executor/cuda/cuda_gpu_executor.cc:937] successful NUMA node read from SysFS had negative value (-1), but there must be at least one NUMA node, so returning NUMA node zero\n",
      "2022-05-03 00:48:54.540604: I tensorflow/stream_executor/cuda/cuda_gpu_executor.cc:937] successful NUMA node read from SysFS had negative value (-1), but there must be at least one NUMA node, so returning NUMA node zero\n",
      "2022-05-03 00:48:54.541735: I tensorflow/core/platform/cpu_feature_guard.cc:142] This TensorFlow binary is optimized with oneAPI Deep Neural Network Library (oneDNN) to use the following CPU instructions in performance-critical operations:  AVX2 AVX512F FMA\n",
      "To enable them in other operations, rebuild TensorFlow with the appropriate compiler flags.\n",
      "2022-05-03 00:48:54.542044: I tensorflow/stream_executor/cuda/cuda_gpu_executor.cc:937] successful NUMA node read from SysFS had negative value (-1), but there must be at least one NUMA node, so returning NUMA node zero\n",
      "2022-05-03 00:48:54.542744: I tensorflow/stream_executor/cuda/cuda_gpu_executor.cc:937] successful NUMA node read from SysFS had negative value (-1), but there must be at least one NUMA node, so returning NUMA node zero\n",
      "2022-05-03 00:48:54.543365: I tensorflow/stream_executor/cuda/cuda_gpu_executor.cc:937] successful NUMA node read from SysFS had negative value (-1), but there must be at least one NUMA node, so returning NUMA node zero\n",
      "2022-05-03 00:48:56.540093: I tensorflow/stream_executor/cuda/cuda_gpu_executor.cc:937] successful NUMA node read from SysFS had negative value (-1), but there must be at least one NUMA node, so returning NUMA node zero\n",
      "2022-05-03 00:48:56.540933: I tensorflow/stream_executor/cuda/cuda_gpu_executor.cc:937] successful NUMA node read from SysFS had negative value (-1), but there must be at least one NUMA node, so returning NUMA node zero\n",
      "2022-05-03 00:48:56.541636: I tensorflow/stream_executor/cuda/cuda_gpu_executor.cc:937] successful NUMA node read from SysFS had negative value (-1), but there must be at least one NUMA node, so returning NUMA node zero\n",
      "2022-05-03 00:48:56.543020: I tensorflow/core/common_runtime/gpu/gpu_device.cc:1510] Created device /job:localhost/replica:0/task:0/device:GPU:0 with 15403 MB memory:  -> device: 0, name: Tesla P100-PCIE-16GB, pci bus id: 0000:00:04.0, compute capability: 6.0\n"
     ]
    }
   ],
   "source": [
    "model = Sequential()\n",
    "model.add(Embedding(vocab_size, 200, input_length = input_sequence_length))\n",
    "model.add(LSTM(128, return_sequences=True))\n",
    "model.add(LSTM(128))\n",
    "model.add(Dense(128, activation=\"relu\"))\n",
    "model.add(Dense(vocab_size, activation=\"softmax\"))"
   ]
  },
  {
   "cell_type": "code",
   "execution_count": 14,
   "id": "1ad7350a",
   "metadata": {
    "execution": {
     "iopub.execute_input": "2022-05-03T00:48:57.532437Z",
     "iopub.status.busy": "2022-05-03T00:48:57.531683Z",
     "iopub.status.idle": "2022-05-03T00:48:57.539999Z",
     "shell.execute_reply": "2022-05-03T00:48:57.539202Z"
    },
    "papermill": {
     "duration": 0.032179,
     "end_time": "2022-05-03T00:48:57.542216",
     "exception": false,
     "start_time": "2022-05-03T00:48:57.510037",
     "status": "completed"
    },
    "tags": []
   },
   "outputs": [
    {
     "name": "stdout",
     "output_type": "stream",
     "text": [
      "Model: \"sequential\"\n",
      "_________________________________________________________________\n",
      "Layer (type)                 Output Shape              Param #   \n",
      "=================================================================\n",
      "embedding (Embedding)        (None, 50, 200)           2400      \n",
      "_________________________________________________________________\n",
      "lstm (LSTM)                  (None, 50, 128)           168448    \n",
      "_________________________________________________________________\n",
      "lstm_1 (LSTM)                (None, 128)               131584    \n",
      "_________________________________________________________________\n",
      "dense (Dense)                (None, 128)               16512     \n",
      "_________________________________________________________________\n",
      "dense_1 (Dense)              (None, 12)                1548      \n",
      "=================================================================\n",
      "Total params: 320,492\n",
      "Trainable params: 320,492\n",
      "Non-trainable params: 0\n",
      "_________________________________________________________________\n"
     ]
    }
   ],
   "source": [
    "model.summary()"
   ]
  },
  {
   "cell_type": "code",
   "execution_count": 15,
   "id": "961f9fa8",
   "metadata": {
    "execution": {
     "iopub.execute_input": "2022-05-03T00:48:57.585750Z",
     "iopub.status.busy": "2022-05-03T00:48:57.585556Z",
     "iopub.status.idle": "2022-05-03T00:52:28.628097Z",
     "shell.execute_reply": "2022-05-03T00:52:28.627366Z"
    },
    "papermill": {
     "duration": 211.066805,
     "end_time": "2022-05-03T00:52:28.629834",
     "exception": false,
     "start_time": "2022-05-03T00:48:57.563029",
     "status": "completed"
    },
    "tags": []
   },
   "outputs": [
    {
     "name": "stderr",
     "output_type": "stream",
     "text": [
      "2022-05-03 00:48:57.713828: I tensorflow/compiler/mlir/mlir_graph_optimization_pass.cc:185] None of the MLIR Optimization Passes are enabled (registered 2)\n"
     ]
    },
    {
     "name": "stdout",
     "output_type": "stream",
     "text": [
      "Epoch 1/50\n"
     ]
    },
    {
     "name": "stderr",
     "output_type": "stream",
     "text": [
      "2022-05-03 00:49:00.878062: I tensorflow/stream_executor/cuda/cuda_dnn.cc:369] Loaded cuDNN version 8005\n"
     ]
    },
    {
     "name": "stdout",
     "output_type": "stream",
     "text": [
      "1474/1474 [==============================] - 20s 11ms/step - loss: 1.4759 - accuracy: 0.3427 - val_loss: 1.3736 - val_accuracy: 0.3590\n",
      "Epoch 2/50\n",
      "1474/1474 [==============================] - 16s 11ms/step - loss: 1.3725 - accuracy: 0.3602 - val_loss: 1.3686 - val_accuracy: 0.3588\n",
      "Epoch 3/50\n",
      "1474/1474 [==============================] - 15s 10ms/step - loss: 1.3685 - accuracy: 0.3605 - val_loss: 1.3700 - val_accuracy: 0.3571\n",
      "Epoch 4/50\n",
      "1474/1474 [==============================] - 16s 11ms/step - loss: 1.3670 - accuracy: 0.3606 - val_loss: 1.3708 - val_accuracy: 0.3600\n",
      "Epoch 5/50\n",
      "1474/1474 [==============================] - 16s 11ms/step - loss: 1.3655 - accuracy: 0.3605 - val_loss: 1.3668 - val_accuracy: 0.3608\n",
      "Epoch 6/50\n",
      "1474/1474 [==============================] - 16s 11ms/step - loss: 1.3647 - accuracy: 0.3624 - val_loss: 1.3666 - val_accuracy: 0.3610\n",
      "Epoch 7/50\n",
      "1474/1474 [==============================] - 15s 10ms/step - loss: 1.3642 - accuracy: 0.3632 - val_loss: 1.3662 - val_accuracy: 0.3609\n",
      "Epoch 8/50\n",
      "1474/1474 [==============================] - 16s 11ms/step - loss: 1.3636 - accuracy: 0.3617 - val_loss: 1.3653 - val_accuracy: 0.3602\n",
      "Epoch 9/50\n",
      "1474/1474 [==============================] - 16s 11ms/step - loss: 1.3632 - accuracy: 0.3644 - val_loss: 1.3659 - val_accuracy: 0.3618\n",
      "Epoch 10/50\n",
      "1474/1474 [==============================] - 16s 11ms/step - loss: 1.3629 - accuracy: 0.3638 - val_loss: 1.3711 - val_accuracy: 0.3589\n",
      "Epoch 11/50\n",
      "1474/1474 [==============================] - 16s 11ms/step - loss: 1.3623 - accuracy: 0.3663 - val_loss: 1.3658 - val_accuracy: 0.3603\n",
      "Epoch 12/50\n",
      "1474/1474 [==============================] - 16s 11ms/step - loss: 1.3622 - accuracy: 0.3645 - val_loss: 1.3655 - val_accuracy: 0.3611\n",
      "Epoch 13/50\n",
      "1474/1474 [==============================] - 16s 11ms/step - loss: 1.3608 - accuracy: 0.3665 - val_loss: 1.3671 - val_accuracy: 0.3597\n"
     ]
    },
    {
     "data": {
      "text/plain": [
       "<keras.callbacks.History at 0x7f986997fa90>"
      ]
     },
     "execution_count": 15,
     "metadata": {},
     "output_type": "execute_result"
    }
   ],
   "source": [
    "from tensorflow.keras.callbacks import ModelCheckpoint,EarlyStopping\n",
    "\n",
    "checkpoint = ModelCheckpoint(\"next_words.h5\", monitor='val_accuracy', patience = 5, verbose=0, save_best_only=True, mode='max')\n",
    "earlyStopping = EarlyStopping(monitor='val_loss', patience=5, verbose=0, mode='min')\n",
    "model.compile(loss=\"sparse_categorical_crossentropy\", optimizer=Adam(learning_rate=0.001), metrics = ['accuracy'])\n",
    "model.fit(train_prev_words, train_next_word, epochs=50, batch_size=64, validation_split = 0.3, callbacks=[checkpoint, earlyStopping])"
   ]
  },
  {
   "cell_type": "markdown",
   "id": "210be153",
   "metadata": {
    "papermill": {
     "duration": 1.013549,
     "end_time": "2022-05-03T00:52:30.674314",
     "exception": false,
     "start_time": "2022-05-03T00:52:29.660765",
     "status": "completed"
    },
    "tags": []
   },
   "source": [
    "# Testing the model"
   ]
  },
  {
   "cell_type": "code",
   "execution_count": 16,
   "id": "aa105fbe",
   "metadata": {
    "execution": {
     "iopub.execute_input": "2022-05-03T00:52:32.775259Z",
     "iopub.status.busy": "2022-05-03T00:52:32.775004Z",
     "iopub.status.idle": "2022-05-03T00:52:33.841483Z",
     "shell.execute_reply": "2022-05-03T00:52:33.840774Z"
    },
    "papermill": {
     "duration": 2.090044,
     "end_time": "2022-05-03T00:52:33.843497",
     "exception": false,
     "start_time": "2022-05-03T00:52:31.753453",
     "status": "completed"
    },
    "tags": []
   },
   "outputs": [
    {
     "name": "stdout",
     "output_type": "stream",
     "text": [
      "1/1 [==============================] - 1s 582ms/step - loss: 1.3285 - accuracy: 0.3871\n"
     ]
    },
    {
     "data": {
      "text/plain": [
       "[1.328513264656067, 0.3870967626571655]"
      ]
     },
     "execution_count": 16,
     "metadata": {},
     "output_type": "execute_result"
    }
   ],
   "source": [
    "model = keras.models.load_model('next_words.h5')\n",
    "model.evaluate(test_prev_words, test_next_word)"
   ]
  },
  {
   "cell_type": "markdown",
   "id": "a3be3390",
   "metadata": {
    "papermill": {
     "duration": 1.013946,
     "end_time": "2022-05-03T00:52:35.884685",
     "exception": false,
     "start_time": "2022-05-03T00:52:34.870739",
     "status": "completed"
    },
    "tags": []
   },
   "source": [
    "# Regenerating Text"
   ]
  },
  {
   "cell_type": "code",
   "execution_count": 17,
   "id": "4c95e255",
   "metadata": {
    "execution": {
     "iopub.execute_input": "2022-05-03T00:52:38.283291Z",
     "iopub.status.busy": "2022-05-03T00:52:38.283037Z",
     "iopub.status.idle": "2022-05-03T00:52:38.734986Z",
     "shell.execute_reply": "2022-05-03T00:52:38.734264Z"
    },
    "papermill": {
     "duration": 1.545489,
     "end_time": "2022-05-03T00:52:38.737042",
     "exception": false,
     "start_time": "2022-05-03T00:52:37.191553",
     "status": "completed"
    },
    "tags": []
   },
   "outputs": [],
   "source": [
    "# Load the model and tokenizer\n",
    "model = keras.models.load_model('next_words.h5')\n",
    "tokenizer = pickle.load(open('token.pkl', 'rb'))\n",
    "\n",
    "def Predict_Next_Words(model, tokenizer, text):\n",
    "\n",
    "  sequence = tokenizer.texts_to_sequences([text])\n",
    "  sequence = np.array(sequence)\n",
    "  preds = np.argmax(model.predict(sequence))\n",
    "  predicted_word = \"\"\n",
    "  \n",
    "  for key, value in tokenizer.word_index.items():\n",
    "      if value == preds:\n",
    "          predicted_word = key\n",
    "          break\n",
    "  \n",
    "  print(predicted_word)\n",
    "  return predicted_word\n",
    "\n"
   ]
  }
 ],
 "metadata": {
  "kernelspec": {
   "display_name": "Python 3",
   "language": "python",
   "name": "python3"
  },
  "language_info": {
   "codemirror_mode": {
    "name": "ipython",
    "version": 3
   },
   "file_extension": ".py",
   "mimetype": "text/x-python",
   "name": "python",
   "nbconvert_exporter": "python",
   "pygments_lexer": "ipython3",
   "version": "3.7.12"
  },
  "papermill": {
   "default_parameters": {},
   "duration": 246.606052,
   "end_time": "2022-05-03T00:52:42.702552",
   "environment_variables": {},
   "exception": null,
   "input_path": "__notebook__.ipynb",
   "output_path": "__notebook__.ipynb",
   "parameters": {},
   "start_time": "2022-05-03T00:48:36.096500",
   "version": "2.3.4"
  }
 },
 "nbformat": 4,
 "nbformat_minor": 5
}
